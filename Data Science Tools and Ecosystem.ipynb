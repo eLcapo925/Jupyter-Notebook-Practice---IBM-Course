{
  "metadata": {
    "kernelspec": {
      "name": "python",
      "display_name": "Python (Pyodide)",
      "language": "python"
    },
    "language_info": {
      "codemirror_mode": {
        "name": "python",
        "version": 3
      },
      "file_extension": ".py",
      "mimetype": "text/x-python",
      "name": "python",
      "nbconvert_exporter": "python",
      "pygments_lexer": "ipython3",
      "version": "3.8"
    }
  },
  "nbformat_minor": 5,
  "nbformat": 4,
  "cells": [
    {
      "id": "19218663-e17e-4f0c-b1a4-1c80f9960ae5",
      "cell_type": "markdown",
      "source": "# Data Science Tools and Ecosystem",
      "metadata": {}
    },
    {
      "id": "f049fe03-5ba1-4daf-a7b6-18cc8bd2da33",
      "cell_type": "markdown",
      "source": "This notebook summarizes data science tools and ecosystems.",
      "metadata": {}
    },
    {
      "id": "3fe2077c-16e4-43db-b38d-e05ed9624038",
      "cell_type": "markdown",
      "source": "**Objectives:**\n- List popular languages for Data Science\n- List common libraries for Data Science\n- List popular open-source tools for Data Science\n- Display Markdown cells in Jupyter Notebooks\n- Display code cells in Jupyter Notebooks",
      "metadata": {}
    },
    {
      "id": "21f8a954-b58d-4499-b45d-aa8565044d55",
      "cell_type": "markdown",
      "source": "Some of the popular languages used by data scientists are:\n1. Python\n2. R\n3. SQL\n4. Julia\n5. MATLAB",
      "metadata": {}
    },
    {
      "id": "10072de1-4cf1-4e6b-b6d3-1ab436122e37",
      "cell_type": "markdown",
      "source": "Some of the libraries commonly used by data scientists include:\n1. Pandas\n2. NumPY\n3. Matplotlib\n4. Scikit-learn",
      "metadata": {}
    },
    {
      "id": "a280d4a6-2c8a-4e21-b332-ec9d72ce8d04",
      "cell_type": "markdown",
      "source": "|Data Sciencie Tools|\n|-------------------|\n|MySQL|\n|Hadoop File System|\n|Jupiter Notebook|",
      "metadata": {}
    },
    {
      "id": "bcaa60b8-827f-49a8-b9e3-797864ac39b7",
      "cell_type": "markdown",
      "source": "### Below are some examples of evaluating arithmetic expressions in Python\n2+2\n\n\n4*4\n\n120-33\n\n32/21",
      "metadata": {}
    },
    {
      "id": "eb5709fd-4806-434a-b5a6-2765ea89c877",
      "cell_type": "code",
      "source": "# This is a simple arithmetic expression for multiplying and then adding integers.\n(3*4)+5",
      "metadata": {
        "trusted": true
      },
      "outputs": [
        {
          "execution_count": 7,
          "output_type": "execute_result",
          "data": {
            "text/plain": "17"
          },
          "metadata": {}
        }
      ],
      "execution_count": 7
    },
    {
      "id": "d607a6bd-a16e-4968-93a1-b1772a41f3e6",
      "cell_type": "code",
      "source": "# This will convert 200 minutes to hours by dividing by 60\n\nx= 200/60\n\nprint(f'{x} hours is equivalent to 200 minutes')",
      "metadata": {
        "trusted": true
      },
      "outputs": [
        {
          "name": "stdout",
          "output_type": "stream",
          "text": "3.3333333333333335 hours is equivalent to 200 minutes\n"
        }
      ],
      "execution_count": 12
    },
    {
      "id": "8c40d446-5ee7-415c-8c1f-4d0324b1bc04",
      "cell_type": "markdown",
      "source": "## Author\nRodrigo Pinto",
      "metadata": {}
    }
  ]
}